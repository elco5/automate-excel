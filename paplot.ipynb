{
 "cells": [
  {
   "cell_type": "code",
   "execution_count": 11,
   "metadata": {},
   "outputs": [
    {
     "name": "stdout",
     "output_type": "stream",
     "text": [
      "   Name   Math  Science  English    Gym\n",
      "0    Joe    65       78       98   89.0\n",
      "1   Bill    55       72       87   95.0\n",
      "2    Tim   100       45       75   92.0\n",
      "3  Sally    30       25       45  100.0\n",
      "4   Jane   100      100      400   60.0\n"
     ]
    }
   ],
   "source": [
    "import pandas as pd\n",
    "import csv as csv\n",
    "import numpy as np\n",
    "\n",
    "\n",
    "A = [\"1\", \"2\", \"3\", \"4\", \"5\"]\n",
    "\n",
    "\n",
    "excel_file = 'Grades.xlsx'\n",
    "data = pd.read_excel(excel_file)\n",
    "\n",
    "  \n",
    "\n",
    "with pd.ExcelWriter(\"ExcelWriter-result.xlsx\") as writer:\n",
    "    data.to_excel(writer) \n",
    "\n",
    "\n",
    "\n",
    "\n",
    "#data.to_excel('output.xlsx',)\n",
    "\n",
    "\n",
    "print(data.head())\n",
    "\n",
    "\n",
    "\n",
    "\n",
    "\n"
   ]
  }
 ],
 "metadata": {
  "interpreter": {
   "hash": "86ddb6f09a57b92838d5c3f5d638777925a5bdad0577b1a65abcea7ecff9b8aa"
  },
  "kernelspec": {
   "display_name": "Python 3.9.5 64-bit ('automate-excel': venv)",
   "language": "python",
   "name": "python3"
  },
  "language_info": {
   "codemirror_mode": {
    "name": "ipython",
    "version": 3
   },
   "file_extension": ".py",
   "mimetype": "text/x-python",
   "name": "python",
   "nbconvert_exporter": "python",
   "pygments_lexer": "ipython3",
   "version": "3.9.5"
  },
  "orig_nbformat": 4
 },
 "nbformat": 4,
 "nbformat_minor": 2
}
